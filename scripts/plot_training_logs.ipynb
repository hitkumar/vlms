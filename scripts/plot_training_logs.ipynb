{
  "cells": [
    {
      "cell_type": "markdown",
      "metadata": {},
      "source": [
        "# Training Log Visualization\n",
        "\n",
        "This notebook provides tools to visualize training loss and accuracy from log files. It can parse training logs and create comprehensive plots showing training progress over time.\n",
        "\n",
        "## Features\n",
        "- Parse training logs to extract step, loss, and accuracy data\n",
        "- Create dual plots for loss and accuracy trends\n",
        "- Add linear trend lines with slope information\n",
        "- Display comprehensive training statistics\n",
        "- Save plots to files or display interactively"
      ]
    },
    {
      "cell_type": "markdown",
      "metadata": {},
      "source": [
        "## Import Required Libraries"
      ]
    },
    {
      "cell_type": "code",
      "execution_count": null,
      "metadata": {
        "output": {
          "id": 1737307103545371,
          "loadingStatus": "loaded"
        }
      },
      "outputs": [],
      "source": [
        "import re\n",
        "import sys\n",
        "from pathlib import Path\n",
        "import matplotlib.pyplot as plt\n",
        "import numpy as np\n",
        "\n",
        "# Set matplotlib to display plots inline\n",
        "%matplotlib inline\n",
        "\n",
        "# Set figure size default\n",
        "plt.rcParams['figure.figsize'] = (12, 10)"
      ]
    },
    {
      "cell_type": "markdown",
      "metadata": {},
      "source": [
        "## Configuration\n",
        "\n",
        "Set the path to your log file here:"
      ]
    },
    {
      "cell_type": "code",
      "execution_count": null,
      "metadata": {},
      "outputs": [],
      "source": [
        "# Configure log file path\n",
        "LOG_FILE_PATH = \"/tmp/logs.txt\"\n",
        "\n",
        "# Optional: Set save path for plots (leave None to display only)\n",
        "SAVE_PATH = None  # e.g., \"training_progress.png\""
      ]
    },
    {
      "cell_type": "markdown",
      "metadata": {},
      "source": [
        "## Log Parsing Function\n",
        "\n",
        "This function parses the training log file to extract step numbers, loss values, and accuracy values."
      ]
    },
    {
      "cell_type": "code",
      "execution_count": null,
      "metadata": {},
      "outputs": [],
      "source": [
        "def parse_log_file(log_path):\n",
        "    \"\"\"\n",
        "    Parse the training log file to extract step, loss, and accuracy data.\n",
        "\n",
        "    Args:\n",
        "        log_path (str): Path to the log file\n",
        "\n",
        "    Returns:\n",
        "        tuple: (steps, losses, accuracies) as lists\n",
        "    \"\"\"\n",
        "    steps = []\n",
        "    losses = []\n",
        "    accuracies = []\n",
        "\n",
        "    # Regular expression to match the training step lines\n",
        "    pattern = (\n",
        "        r\"step: (\\d+)/\\d+, loss: ([\\d.]+), \"\n",
        "        r\"tokens_per_sec: [\\d.]+, accuracy: ([\\d.]+)\"\n",
        "    )\n",
        "\n",
        "    try:\n",
        "        with open(log_path, \"r\") as file:\n",
        "            for line in file:\n",
        "                match = re.search(pattern, line)\n",
        "                if match:\n",
        "                    step = int(match.group(1))\n",
        "                    loss = float(match.group(2))\n",
        "                    accuracy = float(match.group(3))\n",
        "\n",
        "                    steps.append(step)\n",
        "                    losses.append(loss)\n",
        "                    accuracies.append(accuracy)\n",
        "\n",
        "    except FileNotFoundError:\n",
        "        print(f\"Error: Log file '{log_path}' not found.\")\n",
        "        return [], [], []\n",
        "    except Exception as e:\n",
        "        print(f\"Error reading log file: {e}\")\n",
        "        return [], [], []\n",
        "\n",
        "    return steps, losses, accuracies"
      ]
    },
    {
      "cell_type": "markdown",
      "metadata": {},
      "source": [
        "## Plotting Function\n",
        "\n",
        "This function creates matplotlib plots for loss and accuracy over training steps with trend lines."
      ]
    },
    {
      "cell_type": "code",
      "execution_count": null,
      "metadata": {},
      "outputs": [],
      "source": [
        "def create_plots(steps, losses, accuracies, save_path=None):\n",
        "    \"\"\"\n",
        "    Create matplotlib plots for loss and accuracy over training steps.\n",
        "\n",
        "    Args:\n",
        "        steps (list): Training step numbers\n",
        "        losses (list): Loss values\n",
        "        accuracies (list): Accuracy values\n",
        "        save_path (str, optional): Path to save the plot image\n",
        "    \"\"\"\n",
        "    # Create figure with subplots\n",
        "    fig, (ax1, ax2) = plt.subplots(2, 1, figsize=(12, 10))\n",
        "    fig.suptitle(\"Training Progress\", fontsize=16, fontweight=\"bold\")\n",
        "\n",
        "    # Plot loss\n",
        "    ax1.plot(steps, losses, \"b-\", linewidth=1.5, alpha=0.8)\n",
        "    ax1.set_xlabel(\"Training Step\")\n",
        "    ax1.set_ylabel(\"Loss\")\n",
        "    ax1.set_title(\"Training Loss Over Time\")\n",
        "    ax1.grid(True, alpha=0.3)\n",
        "    ax1.set_xlim(0, max(steps))\n",
        "\n",
        "    # Add trend line for loss\n",
        "    if len(steps) > 1:\n",
        "        z = np.polyfit(steps, losses, 1)\n",
        "        p = np.poly1d(z)\n",
        "        ax1.plot(\n",
        "            steps,\n",
        "            p(steps),\n",
        "            \"r--\",\n",
        "            alpha=0.8,\n",
        "            linewidth=1,\n",
        "            label=f\"Trend (slope: {z[0]:.6f})\",\n",
        "        )\n",
        "        ax1.legend()\n",
        "\n",
        "    # Plot accuracy\n",
        "    ax2.plot(steps, accuracies, \"g-\", linewidth=1.5, alpha=0.8)\n",
        "    ax2.set_xlabel(\"Training Step\")\n",
        "    ax2.set_ylabel(\"Accuracy\")\n",
        "    ax2.set_title(\"Training Accuracy Over Time\")\n",
        "    ax2.grid(True, alpha=0.3)\n",
        "    ax2.set_xlim(0, max(steps))\n",
        "    ax2.set_ylim(0, max(max(accuracies) * 1.1, 1.0))\n",
        "\n",
        "    # Add trend line for accuracy\n",
        "    if len(steps) > 1:\n",
        "        z = np.polyfit(steps, accuracies, 1)\n",
        "        p = np.poly1d(z)\n",
        "        ax2.plot(\n",
        "            steps,\n",
        "            p(steps),\n",
        "            \"r--\",\n",
        "            alpha=0.8,\n",
        "            linewidth=1,\n",
        "            label=f\"Trend (slope: {z[0]:.6f})\",\n",
        "        )\n",
        "        ax2.legend()\n",
        "\n",
        "    # Adjust layout\n",
        "    plt.tight_layout()\n",
        "\n",
        "    # Save or show plot\n",
        "    if save_path:\n",
        "        plt.savefig(save_path, dpi=300, bbox_inches=\"tight\")\n",
        "        print(f\"Plot saved to: {save_path}\")\n",
        "\n",
        "    plt.show()"
      ]
    },
    {
      "cell_type": "markdown",
      "metadata": {},
      "source": [
        "## Statistics Function\n",
        "\n",
        "This function prints comprehensive training statistics."
      ]
    },
    {
      "cell_type": "code",
      "execution_count": null,
      "metadata": {},
      "outputs": [],
      "source": [
        "def print_statistics(steps, losses, accuracies):\n",
        "    \"\"\"Print training statistics.\"\"\"\n",
        "    if not steps:\n",
        "        print(\"No training data found in log file.\")\n",
        "        return\n",
        "\n",
        "    print(\"\\n\" + \"=\" * 50)\n",
        "    print(\"TRAINING STATISTICS\")\n",
        "    print(\"=\" * 50)\n",
        "    print(f\"Total training steps: {len(steps)}\")\n",
        "    print(f\"Step range: {min(steps)} - {max(steps)}\")\n",
        "    print(f\"Initial loss: {losses[0]:.4f}\")\n",
        "    print(f\"Final loss: {losses[-1]:.4f}\")\n",
        "    best_loss_step = steps[losses.index(min(losses))]\n",
        "    print(f\"Best loss: {min(losses):.4f} (step {best_loss_step})\")\n",
        "    print(f\"Initial accuracy: {accuracies[0]:.4f}\")\n",
        "    print(f\"Final accuracy: {accuracies[-1]:.4f}\")\n",
        "    best_acc_step = steps[accuracies.index(max(accuracies))]\n",
        "    print(f\"Best accuracy: {max(accuracies):.4f} (step {best_acc_step})\")\n",
        "    print(f\"Loss improvement: {losses[0] - losses[-1]:.4f}\")\n",
        "    print(f\"Accuracy improvement: {accuracies[-1] - accuracies[0]:.4f}\")\n",
        "    print(\"=\" * 50)"
      ]
    },
    {
      "cell_type": "markdown",
      "metadata": {},
      "source": [
        "## Load and Parse Training Data\n",
        "\n",
        "Now let's load the training log and extract the data:"
      ]
    },
    {
      "cell_type": "code",
      "execution_count": null,
      "metadata": {
        "output": {
          "id": 1788710391728940,
          "loadingStatus": "loaded"
        }
      },
      "outputs": [],
      "source": [
        "# Check if log file exists\n",
        "if not Path(LOG_FILE_PATH).exists():\n",
        "    print(f\"Error: Log file '{LOG_FILE_PATH}' does not exist.\")\n",
        "    print(\"Please update the LOG_FILE_PATH variable in the configuration cell above.\")\n",
        "else:\n",
        "    print(f\"Parsing log file: {LOG_FILE_PATH}\")\n",
        "\n",
        "    # Parse the log file\n",
        "    steps, losses, accuracies = parse_log_file(LOG_FILE_PATH)\n",
        "\n",
        "    if not steps:\n",
        "        print(\"No training data found in the log file.\")\n",
        "    else:\n",
        "        print(f\"Successfully parsed {len(steps)} training steps.\")"
      ]
    },
    {
      "cell_type": "markdown",
      "metadata": {},
      "source": [
        "## Display Training Statistics\n",
        "\n",
        "Let's examine the training statistics:"
      ]
    },
    {
      "cell_type": "code",
      "execution_count": null,
      "metadata": {
        "output": {
          "id": 1087008189565898,
          "loadingStatus": "loaded"
        }
      },
      "outputs": [],
      "source": [
        "if 'steps' in locals() and steps:\n",
        "    print_statistics(steps, losses, accuracies)\n",
        "else:\n",
        "    print(\"No training data available. Please run the data loading cell first.\")"
      ]
    },
    {
      "cell_type": "markdown",
      "metadata": {},
      "source": [
        "## Create Training Progress Plots\n",
        "\n",
        "Now let's visualize the training progress:"
      ]
    },
    {
      "cell_type": "code",
      "execution_count": null,
      "metadata": {
        "output": {
          "id": 707250738692905,
          "loadingStatus": "loaded"
        }
      },
      "outputs": [],
      "source": [
        "if 'steps' in locals() and steps:\n",
        "    create_plots(steps, losses, accuracies, SAVE_PATH)\n",
        "else:\n",
        "    print(\"No training data available. Please run the data loading cell first.\")"
      ]
    },
    {
      "cell_type": "code",
      "execution_count": null,
      "metadata": {},
      "outputs": [],
      "source": []
    }
  ],
  "metadata": {
    "fileHeader": "",
    "fileUid": "fd69dfcf-5c6f-46f1-9937-e0a2e3ae3103",
    "isAdHoc": false,
    "kernelspec": {
      "display_name": "deep_rl (local)",
      "language": "python",
      "name": "deep_rl_local"
    },
    "language_info": {
      "codemirror_mode": {
        "name": "ipython",
        "version": 3
      },
      "file_extension": ".py",
      "mimetype": "text/x-python",
      "name": "python",
      "nbconvert_exporter": "python",
      "pygments_lexer": "ipython3",
      "version": "3.8.0"
    }
  }
}
